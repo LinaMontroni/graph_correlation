{
  "metadata": {
    "kernelspec": {
      "name": "SQLite",
      "display_name": "SQLite",
      "language": "sql"
    },
    "language_info": {
      "codemirror_mode": "sql",
      "file_extension": "",
      "mimetype": "",
      "name": "sql",
      "version": "3.32.3"
    }
  },
  "nbformat_minor": 5,
  "nbformat": 4,
  "cells": [
    {
      "id": "d1511e42-9d6e-41b7-9fbe-656ea109b87d",
      "cell_type": "markdown",
      "source": "# Generate Graphs data for training and testing the models\n\nUses class DataGeneration functions\n\n--------------------",
      "metadata": {}
    },
    {
      "id": "e135e71b-f39a-46e5-9977-266c67dc3be7",
      "cell_type": "markdown",
      "source": "### Imports",
      "metadata": {}
    },
    {
      "id": "86dde6f7-faab-4931-9b49-5069ed766220",
      "cell_type": "code",
      "source": "import os\nimport argparse\nimport joblib\nimport pickle\nfrom src.models.Data_generation import *",
      "metadata": {
        "trusted": true
      },
      "outputs": [],
      "execution_count": null
    },
    {
      "id": "ecab7f1f-9aaf-436e-9e9a-aa03590f5b6e",
      "cell_type": "markdown",
      "source": "---------------\n\n### Define the parameters for generating the graph datasets\n",
      "metadata": {}
    },
    {
      "id": "d9ad3d53-33ae-4d57-8bd8-ca72c8081651",
      "cell_type": "code",
      "source": "set_type='train'  #Type of set to be generated: train or test. Note: train should only be used with simulation_1\nsimulation_name=\"simulation1\" #Simulation name to be used on inputs dir. \ngraph_name_list=[\"erdos\", \"geometric\",\"watts_strogatz\",\"k_regular\",\"barabasi\"] #Graphs names to be generated\nn_simulations=5 #Number of simulations.\nn_graphs=40 #Number of graphs in each set for each simulation.\nn_nodes=100 #Size of each graphs.",
      "metadata": {
        "trusted": true
      },
      "outputs": [],
      "execution_count": null
    },
    {
      "id": "56f8992b-225a-4b67-a408-95425f93e245",
      "cell_type": "markdown",
      "source": "#### Generation loop for train or test data\n\nGenerates and save the graph datasets",
      "metadata": {}
    },
    {
      "id": "eb8d5452-3b7a-4896-a187-4afd5688c5e5",
      "cell_type": "code",
      "source": "if set_type == 'train':\n    #Generate TrainDataset - only for Simulation 1 - correlation values in range (-1,1) for training the GNN-Siamese\n    dataset_list1 = []\n    dataset_list2 = []\n    generator = DataGeneration(simulation_name,n_simulations)\n    generator.generate_siamese_data(n_graphs)\n    for graph_name in graph_name_list:\n        dataset1 = generator.simulate_graph_and_nodes(generator.p_norm1,graph_name,n_nodes)\n        dataset2 = generator.simulate_graph_and_nodes(generator.p_norm1,graph_name,n_nodes)\n        dataset_list1.append(dataset1)\n        dataset_list2.append(dataset2)\n    train_dataset1 = ConcatDataset(dataset1)\n    train_dataset2 = ConcatDataset(dataset2)\n    torch.save(train_dataset1,f'/data/train/train_set1.pkl')\n    torch.save(train_dataset2,f'/data/train/train_set2.pkl')\n\n    scaler = generator.generate_scaler(ConcatDataset(dataset_list1+dataset_list2))\n    joblib.dump(scaler, f'/data/scaler.pkl')\nelse:\n    #Generate Test dataset\n    generator = DataGeneration(simulation_name,{n_simulations})\n    generator.generate_siamese_data({n_graphs})\n    for graph_name in {graph_name_list}:\n        test_dataset1 = generator.simulate_graph_and_nodes(generator.p_norm1,graph_name,n_nodes)\n        test_dataset2 = generator.simulate_graph_and_nodes(generator.p_norm1,graph_name,n_nodes)\n        torch.save(test_dataset1,f'/data/{simulation_name}/test_set1_{graph_name}_{n_nodes}_nodes_{n_graphs}_pairs.pth')\n        torch.save(test_dataset2,f'/data/{simulation_name}/test_set2_{graph_name}_{n_nodes}_nodes_{n_graphs}_pairs.pth')",
      "metadata": {
        "trusted": true
      },
      "outputs": [],
      "execution_count": null
    }
  ]
}