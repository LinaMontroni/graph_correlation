{
  "metadata": {
    "kernelspec": {
      "name": "SQLite",
      "display_name": "SQLite",
      "language": "sql"
    },
    "language_info": {
      "codemirror_mode": "sql",
      "file_extension": "",
      "mimetype": "",
      "name": "sql",
      "version": "3.32.3"
    }
  },
  "nbformat_minor": 5,
  "nbformat": 4,
  "cells": [
    {
      "id": "d1511e42-9d6e-41b7-9fbe-656ea109b87d",
      "cell_type": "markdown",
      "source": "# Evaluate Models - Simulations 1 and 2\n\nEvaluate both GNN-Siamese and Spectral Radius models\n\n--------------------",
      "metadata": {}
    },
    {
      "id": "e135e71b-f39a-46e5-9977-266c67dc3be7",
      "cell_type": "markdown",
      "source": "### Imports",
      "metadata": {}
    },
    {
      "id": "86dde6f7-faab-4931-9b49-5069ed766220",
      "cell_type": "code",
      "source": "import src.Simulation1\nimport src.Simulation2\nfrom Simulation1 import Simulation1Evaluation\nfrom Simulation2 import Simulation2Evaluation\nfrom utils import GenerateSimulationPlot",
      "metadata": {
        "trusted": true
      },
      "outputs": [],
      "execution_count": null
    },
    {
      "id": "ecab7f1f-9aaf-436e-9e9a-aa03590f5b6e",
      "cell_type": "markdown",
      "source": "---------------\n\n### Define the simulations parameters \n\nMust be a existing parameter combination, i.e. graph data generation must have been run before this. ",
      "metadata": {}
    },
    {
      "id": "d9ad3d53-33ae-4d57-8bd8-ca72c8081651",
      "cell_type": "code",
      "source": "simulation_name=\"simulation1\" #Simulation name to be used on inputs dir.\ngraph_name_list=[\"erdos\", \"geometric\",\"watts_strogatz\",\"k_regular\",\"barabasi\"] #Graphs names to be generated\nn_simulations=5 #Number of simulations.\nn_graphs=40 #Number of graphs in each set for each simulation\nn_nodes=100 #Size of each graphs.",
      "metadata": {
        "trusted": true
      },
      "outputs": [],
      "execution_count": null
    },
    {
      "id": "56f8992b-225a-4b67-a408-95425f93e245",
      "cell_type": "markdown",
      "source": "---------\n\n### Main",
      "metadata": {}
    },
    {
      "id": "3d26fc35-d8ff-4923-bc37-23dfb9fe3d5b",
      "cell_type": "code",
      "source": "generate_plot = GenerateSimulationPlot()",
      "metadata": {
        "trusted": true
      },
      "outputs": [],
      "execution_count": null
    },
    {
      "id": "eab7cc58-5f44-4734-b051-2b2a3041ffa4",
      "cell_type": "markdown",
      "source": "#### Simulation1",
      "metadata": {}
    },
    {
      "id": "eb8d5452-3b7a-4896-a187-4afd5688c5e5",
      "cell_type": "code",
      "source": "df_results = pd.DataFrame()\nfor graph_name in graph_name_list:\n    evaluation = Simulation1Evaluation(n_nodes,n_graphs,graph_name)\n    evaluation.fit_test_data()\n\n    #Simulate spectral radius\n    spectral_corr_list,real_corr_list = evaluation.evaluate_spectral()\n    len_df = len(real_corr_list)\n    data_eig = {'real_corr':real_corr_list,'corr':spectral_corr_list,'graph_name'[graph_name]*len_df,'method':['spectral_radius']*len_df}\n    df_results = df_results = pd.concat([df_results,pd.DataFrame(data=data_eig)])\n\n    #Simulate GNN-Siamese\n    gnn_siamese_corr_list,real_corr_list = evaluation.evaluate_GNN_Siamese()\n    data_net = {'real_corr':real_corr_list,'corr':gnn_siamese_corr_list,'graph_name':[graph_name]*len_df,'method':['GNN_Siamese']*len_df}\n    df_results = df_results = pd.concat([df_results,pd.DataFrame(data=data_net)])\n\ndf_results.to_csv(f'/results/{simulation_name}_{n_nodes}_nodes_{n_graph}_graphs_results.csv')",
      "metadata": {
        "trusted": true
      },
      "outputs": [],
      "execution_count": null
    },
    {
      "id": "99bb8408-b3f0-4ec9-aa66-c9fef8a881ee",
      "cell_type": "code",
      "source": "# Plot regression \ngenerate_plot.plot_sim1_regression(df_results)",
      "metadata": {
        "trusted": true
      },
      "outputs": [],
      "execution_count": null
    },
    {
      "id": "36cc29b7-f39d-420d-855b-a86870baa899",
      "cell_type": "markdown",
      "source": "#### Simulation 2\n\nDefine special parameters for Simulation 2",
      "metadata": {}
    },
    {
      "id": "2c34fea6-1d4d-46ef-b1e0-515080f4cb92",
      "cell_type": "code",
      "source": "n_nodes = 50 \nn_graphs_sim2 = [20,40,60,80]",
      "metadata": {
        "trusted": true
      },
      "outputs": [],
      "execution_count": null
    },
    {
      "id": "bb142e75-7f4f-4a99-b537-8e1c598f736e",
      "cell_type": "code",
      "source": "df_results = pd.DataFrame()\nfor graph_name in graph_name_list:\n    for n_graph in n_graphs_sim2:\n        evaluation = Simulation2Evaluation(n_nodes,n_graph,graph_name)\n        evaluation.fit_test_data()\n    \n        #Simulate spectral radius\n        eig_p_value_list = evaluation.evaluate_spectral()\n        len_df = len(eig_p_value_list)\n        data_eig = {'eig_p_value':eig_p_value_list,'graph_name'[graph_name]*len_df,'method':['spectral_radius']*len_df}\n        df_results = pd.concat([df_results,pd.DataFrame(data=data_eig)])\n    \n        #Simulate GNN-Siamese\n        network_p_value_list = evaluation.evaluate_GNN_Siamese()\n        data_net = {'network_p_value':network_p_value_list,'graph_name':[graph_name]*len_df,'method':['GNN_Siamese']*len_df}\n        df_results = pd.concat([df_results,pd.DataFrame(data=data_net)])\n\ndf_results.to_csv(f'/results/{simulation_name}_{n_nodes}_nodes_{n_graph}_graphs_results.csv')",
      "metadata": {
        "trusted": true
      },
      "outputs": [],
      "execution_count": null
    },
    {
      "id": "e753d03c-2b5f-4000-a2b0-6c452a9639fb",
      "cell_type": "code",
      "source": "# Plot ROC curves\ngenerate_plot.plot_sim2_roc_curves(df_results,simulation_name)",
      "metadata": {
        "trusted": true
      },
      "outputs": [],
      "execution_count": null
    }
  ]
}